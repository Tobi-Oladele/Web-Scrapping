{
 "cells": [
  {
   "cell_type": "code",
   "execution_count": 1,
   "id": "6a418f58",
   "metadata": {},
   "outputs": [],
   "source": [
    "from bs4 import BeautifulSoup\n",
    "import requests"
   ]
  },
  {
   "cell_type": "code",
   "execution_count": null,
   "id": "9a62e1dd",
   "metadata": {},
   "outputs": [],
   "source": []
  },
  {
   "cell_type": "code",
   "execution_count": 36,
   "id": "38a446bd",
   "metadata": {},
   "outputs": [
    {
     "name": "stdout",
     "output_type": "stream",
     "text": [
      "Enter number of elements : 2\n",
      "Input Unfamiliar skills\n",
      ">django\n",
      "Input Unfamiliar skills\n",
      ">linux\n",
      "Filtering out linux\n",
      " \n",
      " \n",
      " \n",
      " \n",
      " \n",
      " \n",
      " \n",
      " \n",
      " \n",
      " \n",
      " \n",
      " \n",
      " \n",
      " \n",
      " \n",
      " \n",
      " \n",
      " \n",
      " \n",
      " \n",
      " \n"
     ]
    }
   ],
   "source": [
    "lst = []\n",
    "n = int(input(\"Enter number of elements : \"))\n",
    "for i in range(0, n):\n",
    "    print('Input Unfamiliar skills')\n",
    "    unfamiliar_skill = input('>')\n",
    "    lst.append(unfamiliar_skill)\n",
    "\n",
    "\n",
    "print(f'Filtering out {unfamiliar_skill}')\n",
    "\n",
    "def find_jobs():\n",
    "    html_text = requests.get('https://www.timesjobs.com/candidate/job-search.html?searchType=personalizedSearch&from=submit&txtKeywords=Data+Scientist&txtLocation=').text\n",
    "    soup =BeautifulSoup(html_text, 'lxml')\n",
    "    jobs = soup.find_all('li', class_='clearfix job-bx wht-shd-bx')\n",
    "    for index, job in enumerate(jobs):\n",
    "        published_date = job.find('span', class_='sim-posted').text.strip()\n",
    "        if 'few' in published_date:\n",
    "            company_name = job.find('h3', class_='joblist-comp-name').text.strip()\n",
    "            skills = job.find('span', class_='srp-skills').text.strip()\n",
    "            more_info = job.header.h2.a['href']\n",
    "\n",
    "            if unfamiliar_skill not in skills:\n",
    "                with open(f'post/index {index}.txt', 'w') as f:\n",
    "                    f.write(f'Company Name: {company_name.strip()}.'\\n)\n",
    "                    f.write(f'Required Skills: {skills.strip()}.'\\n)\n",
    "                    f.write(f'More Info: {more_info}.')\n",
    "\n",
    "                print(' ')\n",
    "find_jobs()"
   ]
  }
 ],
 "metadata": {
  "kernelspec": {
   "display_name": "Python 3 (ipykernel)",
   "language": "python",
   "name": "python3"
  },
  "language_info": {
   "codemirror_mode": {
    "name": "ipython",
    "version": 3
   },
   "file_extension": ".py",
   "mimetype": "text/x-python",
   "name": "python",
   "nbconvert_exporter": "python",
   "pygments_lexer": "ipython3",
   "version": "3.9.7"
  }
 },
 "nbformat": 4,
 "nbformat_minor": 5
}
